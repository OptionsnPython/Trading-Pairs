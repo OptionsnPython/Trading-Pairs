{
  "nbformat": 4,
  "nbformat_minor": 0,
  "metadata": {
    "colab": {
      "name": "Trading Pairs: File 1 - Moving Average.ipynb",
      "provenance": []
    },
    "kernelspec": {
      "name": "python3",
      "display_name": "Python 3"
    }
  },
  "cells": [
    {
      "cell_type": "code",
      "metadata": {
        "colab": {
          "base_uri": "https://localhost:8080/"
        },
        "id": "LSF5yTCCtzx-",
        "outputId": "9f28ab55-24e2-4c4f-ad36-a4327414b269"
      },
      "source": [
        "!pip install yfinance\r\n",
        "from datetime import datetime\r\n",
        "import pandas as pd\r\n",
        "import matplotlib.pyplot as plt\r\n",
        "import numpy as np\r\n",
        "import yfinance as yf"
      ],
      "execution_count": null,
      "outputs": [
        {
          "output_type": "stream",
          "text": [
            "Collecting yfinance\n",
            "  Downloading https://files.pythonhosted.org/packages/7a/e8/b9d7104d3a4bf39924799067592d9e59119fcfc900a425a12e80a3123ec8/yfinance-0.1.55.tar.gz\n",
            "Requirement already satisfied: pandas>=0.24 in /usr/local/lib/python3.6/dist-packages (from yfinance) (1.1.5)\n",
            "Requirement already satisfied: numpy>=1.15 in /usr/local/lib/python3.6/dist-packages (from yfinance) (1.19.4)\n",
            "Requirement already satisfied: requests>=2.20 in /usr/local/lib/python3.6/dist-packages (from yfinance) (2.23.0)\n",
            "Requirement already satisfied: multitasking>=0.0.7 in /usr/local/lib/python3.6/dist-packages (from yfinance) (0.0.9)\n",
            "Collecting lxml>=4.5.1\n",
            "\u001b[?25l  Downloading https://files.pythonhosted.org/packages/bd/78/56a7c88a57d0d14945472535d0df9fb4bbad7d34ede658ec7961635c790e/lxml-4.6.2-cp36-cp36m-manylinux1_x86_64.whl (5.5MB)\n",
            "\u001b[K     |████████████████████████████████| 5.5MB 6.1MB/s \n",
            "\u001b[?25hRequirement already satisfied: pytz>=2017.2 in /usr/local/lib/python3.6/dist-packages (from pandas>=0.24->yfinance) (2018.9)\n",
            "Requirement already satisfied: python-dateutil>=2.7.3 in /usr/local/lib/python3.6/dist-packages (from pandas>=0.24->yfinance) (2.8.1)\n",
            "Requirement already satisfied: chardet<4,>=3.0.2 in /usr/local/lib/python3.6/dist-packages (from requests>=2.20->yfinance) (3.0.4)\n",
            "Requirement already satisfied: certifi>=2017.4.17 in /usr/local/lib/python3.6/dist-packages (from requests>=2.20->yfinance) (2020.12.5)\n",
            "Requirement already satisfied: urllib3!=1.25.0,!=1.25.1,<1.26,>=1.21.1 in /usr/local/lib/python3.6/dist-packages (from requests>=2.20->yfinance) (1.24.3)\n",
            "Requirement already satisfied: idna<3,>=2.5 in /usr/local/lib/python3.6/dist-packages (from requests>=2.20->yfinance) (2.10)\n",
            "Requirement already satisfied: six>=1.5 in /usr/local/lib/python3.6/dist-packages (from python-dateutil>=2.7.3->pandas>=0.24->yfinance) (1.15.0)\n",
            "Building wheels for collected packages: yfinance\n",
            "  Building wheel for yfinance (setup.py) ... \u001b[?25l\u001b[?25hdone\n",
            "  Created wheel for yfinance: filename=yfinance-0.1.55-py2.py3-none-any.whl size=22616 sha256=3e440b22cec23cd045e33ef337033036199263989faebaa1dbefd011f3d784e6\n",
            "  Stored in directory: /root/.cache/pip/wheels/04/98/cc/2702a4242d60bdc14f48b4557c427ded1fe92aedf257d4565c\n",
            "Successfully built yfinance\n",
            "Installing collected packages: lxml, yfinance\n",
            "  Found existing installation: lxml 4.2.6\n",
            "    Uninstalling lxml-4.2.6:\n",
            "      Successfully uninstalled lxml-4.2.6\n",
            "Successfully installed lxml-4.6.2 yfinance-0.1.55\n"
          ],
          "name": "stdout"
        }
      ]
    },
    {
      "cell_type": "code",
      "metadata": {
        "colab": {
          "base_uri": "https://localhost:8080/"
        },
        "id": "jSEv-qvWuCVB",
        "outputId": "3d595229-0ae6-4a9c-a40c-99d381a2ecf5"
      },
      "source": [
        "Stock = \"RELIANCE.NS\"\r\n",
        "data = yf.download(Stock, start=\"2020-01-01\", end=\"2020-10-31\")"
      ],
      "execution_count": null,
      "outputs": [
        {
          "output_type": "stream",
          "text": [
            "\r[*********************100%***********************]  1 of 1 completed\n"
          ],
          "name": "stdout"
        }
      ]
    },
    {
      "cell_type": "code",
      "metadata": {
        "colab": {
          "base_uri": "https://localhost:8080/"
        },
        "id": "P5Nx9nPwuFgb",
        "outputId": "4afe9457-b0b0-4615-9a3f-b8ff5646bfe3"
      },
      "source": [
        "T = pd.DataFrame({\"Close\": data[\"Close\"]})\r\n",
        "SMA=10\r\n",
        "LMA=30\r\n",
        "\r\n",
        "# Compute Moving averages of last 10 days and 30 days closing prices\r\n",
        "T['Short_average'] = T['Close'].rolling(window=SMA, min_periods=1, center=False).mean()\r\n",
        "T['Long_average'] = T['Close'].rolling(window=LMA, min_periods=1, center=False).mean()\r\n",
        "\r\n",
        "T['positions_long'] = np.nan\r\n",
        "\r\n",
        "for x in range (len(T)):\r\n",
        "  if T.Short_average[x] > T.Long_average[x]:\r\n",
        "    T['positions_long'][x] = 1\r\n",
        "  if T.Short_average[x] <= T.Long_average[x]:\r\n",
        "    T['positions_long'][x] = 0\r\n",
        "\r\n",
        "T.positions_long = T.positions_long.fillna(method='ffill')  \r\n",
        "\r\n",
        "T['price_difference']= T.Close - T.Close.shift(1)\r\n",
        "T['pnllong'] = T.positions_long.shift(1) * T.price_difference\r\n",
        "T['cumpnl_long'] = T.pnllong.cumsum()\r\n",
        "\r\n",
        "print(T)"
      ],
      "execution_count": null,
      "outputs": [
        {
          "output_type": "stream",
          "text": [
            "                  Close  Short_average  ...  pnllong  cumpnl_long\n",
            "Date                                    ...                      \n",
            "2020-01-01  1509.599976    1509.599976  ...      NaN          NaN\n",
            "2020-01-02  1535.300049    1522.450012  ...      0.0          0.0\n",
            "2020-01-03  1537.150024    1527.350016  ...      0.0          0.0\n",
            "2020-01-06  1501.500000    1520.887512  ...     -0.0          0.0\n",
            "2020-01-07  1524.599976    1521.630005  ...      0.0          0.0\n",
            "...                 ...            ...  ...      ...          ...\n",
            "2020-10-26  2029.099976    2165.629993  ...     -0.0        747.5\n",
            "2020-10-27  2034.500000    2141.009998  ...      0.0        747.5\n",
            "2020-10-28  2011.449951    2113.404993  ...     -0.0        747.5\n",
            "2020-10-29  2026.900024    2095.444995  ...      0.0        747.5\n",
            "2020-10-30  2054.500000    2083.314990  ...      0.0        747.5\n",
            "\n",
            "[209 rows x 7 columns]\n"
          ],
          "name": "stdout"
        }
      ]
    }
  ]
}