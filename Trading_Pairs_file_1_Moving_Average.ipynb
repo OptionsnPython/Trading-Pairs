{
  "nbformat": 4,
  "nbformat_minor": 0,
  "metadata": {
    "colab": {
      "name": "Trading Pairs file 1: Moving Average",
      "provenance": []
    },
    "kernelspec": {
      "name": "python3",
      "display_name": "Python 3"
    }
  },
  "cells": [
    {
      "cell_type": "code",
      "metadata": {
        "id": "e1HWkT8D_N2Q",
        "colab": {
          "base_uri": "https://localhost:8080/"
        },
        "outputId": "4b867272-741e-4657-fd66-ce91d8098875"
      },
      "source": [
        "!pip install yfinance\n",
        "from datetime import datetime\n",
        "import pandas as pd\n",
        "import matplotlib.pyplot as plt\n",
        "import numpy as np\n",
        "import yfinance as yf"
      ],
      "execution_count": null,
      "outputs": [
        {
          "output_type": "stream",
          "text": [
            "Collecting yfinance\n",
            "  Downloading https://files.pythonhosted.org/packages/7a/e8/b9d7104d3a4bf39924799067592d9e59119fcfc900a425a12e80a3123ec8/yfinance-0.1.55.tar.gz\n",
            "Requirement already satisfied: pandas>=0.24 in /usr/local/lib/python3.6/dist-packages (from yfinance) (1.1.4)\n",
            "Requirement already satisfied: numpy>=1.15 in /usr/local/lib/python3.6/dist-packages (from yfinance) (1.18.5)\n",
            "Requirement already satisfied: requests>=2.20 in /usr/local/lib/python3.6/dist-packages (from yfinance) (2.23.0)\n",
            "Requirement already satisfied: multitasking>=0.0.7 in /usr/local/lib/python3.6/dist-packages (from yfinance) (0.0.9)\n",
            "Collecting lxml>=4.5.1\n",
            "\u001b[?25l  Downloading https://files.pythonhosted.org/packages/bd/78/56a7c88a57d0d14945472535d0df9fb4bbad7d34ede658ec7961635c790e/lxml-4.6.2-cp36-cp36m-manylinux1_x86_64.whl (5.5MB)\n",
            "\u001b[K     |████████████████████████████████| 5.5MB 11.1MB/s \n",
            "\u001b[?25hRequirement already satisfied: pytz>=2017.2 in /usr/local/lib/python3.6/dist-packages (from pandas>=0.24->yfinance) (2018.9)\n",
            "Requirement already satisfied: python-dateutil>=2.7.3 in /usr/local/lib/python3.6/dist-packages (from pandas>=0.24->yfinance) (2.8.1)\n",
            "Requirement already satisfied: idna<3,>=2.5 in /usr/local/lib/python3.6/dist-packages (from requests>=2.20->yfinance) (2.10)\n",
            "Requirement already satisfied: chardet<4,>=3.0.2 in /usr/local/lib/python3.6/dist-packages (from requests>=2.20->yfinance) (3.0.4)\n",
            "Requirement already satisfied: certifi>=2017.4.17 in /usr/local/lib/python3.6/dist-packages (from requests>=2.20->yfinance) (2020.11.8)\n",
            "Requirement already satisfied: urllib3!=1.25.0,!=1.25.1,<1.26,>=1.21.1 in /usr/local/lib/python3.6/dist-packages (from requests>=2.20->yfinance) (1.24.3)\n",
            "Requirement already satisfied: six>=1.5 in /usr/local/lib/python3.6/dist-packages (from python-dateutil>=2.7.3->pandas>=0.24->yfinance) (1.15.0)\n",
            "Building wheels for collected packages: yfinance\n",
            "  Building wheel for yfinance (setup.py) ... \u001b[?25l\u001b[?25hdone\n",
            "  Created wheel for yfinance: filename=yfinance-0.1.55-py2.py3-none-any.whl size=22618 sha256=6eb2a9f02764440af01a1327dc8aa0e8f894c83459b2d6a425e876ec6656b514\n",
            "  Stored in directory: /root/.cache/pip/wheels/04/98/cc/2702a4242d60bdc14f48b4557c427ded1fe92aedf257d4565c\n",
            "Successfully built yfinance\n",
            "Installing collected packages: lxml, yfinance\n",
            "  Found existing installation: lxml 4.2.6\n",
            "    Uninstalling lxml-4.2.6:\n",
            "      Successfully uninstalled lxml-4.2.6\n",
            "Successfully installed lxml-4.6.2 yfinance-0.1.55\n"
          ],
          "name": "stdout"
        }
      ]
    },
    {
      "cell_type": "code",
      "metadata": {
        "id": "IGLYAUAY-v4r",
        "colab": {
          "base_uri": "https://localhost:8080/"
        },
        "outputId": "57bc5828-a3c5-4cae-c03e-e5d61b069432"
      },
      "source": [
        "Stock = \"RELIANCE.NS\"\n",
        "data = yf.download(Stock, start=\"2016-01-01\", end=\"2020-10-31\")\n",
        "T3 = pd.DataFrame({\"Close\": data[\"Close\"]})\n",
        "T3['Year'] = T3.index.year \n",
        "T2 = pd.DataFrame({\"cumpnl_long\":['0'], \"cumpnl_short\":['0'], \"cumpnl\":['0'], \"SMA\":['0'],  \"LMA\":['0'], \"Stock\":['0'], \"Year\":['0']})\n",
        "\n",
        "for z in range (2016, 2021, 1):\n",
        "  T = T3.where(T3.Year == z)\n",
        "  T = T.dropna()\n",
        "  for x in range(1,35,2):\n",
        "    for y in range(x,35,2):\n",
        "      SMA=x\n",
        "      LMA=y\n",
        "\n",
        "      # Compute Moving averages of last 10 days and 30 days closing prices\n",
        "      T['Short_average'] = T['Close'].rolling(window=SMA, min_periods=1, center=False).mean()\n",
        "      T['Long_average'] = T['Close'].rolling(window=LMA, min_periods=1, center=False).mean()\n",
        "\n",
        "      T['long_entry'] = T.Short_average > T.Long_average   \n",
        "      T['long_exit'] = T.Short_average <= T.Long_average\n",
        "      T['positions_long'] = np.nan  \n",
        "      T.loc[T.long_entry,'positions_long'] = 1  \n",
        "      T.loc[T.long_exit,'positions_long'] = 0  \n",
        "      T.positions_long = T.positions_long.fillna(method='ffill')  \n",
        "\n",
        "      T['short_entry'] = T.Short_average < T.Long_average   \n",
        "      T['short_exit'] = T.Short_average >= T.Long_average\n",
        "      T['positions_short'] = np.nan  \n",
        "      T.loc[T.short_entry,'positions_short'] = -1  \n",
        "      T.loc[T.short_exit,'positions_short'] = 0  \n",
        "      T.positions_short = T.positions_short.fillna(method='ffill')  \n",
        "\n",
        "      T['price_difference']= T.Close - T.Close.shift(1)\n",
        "      T['pnllong'] = T.positions_long.shift(1) * T.price_difference\n",
        "      T['pnlshort'] = T.positions_short.shift(1) * T.price_difference\n",
        "      T['pnl'] = T['pnllong']+T['pnlshort'] \n",
        "      T['cumpnl_long'] = T.pnllong.cumsum()\n",
        "      T['cumpnl_short'] = T.pnlshort.cumsum()\n",
        "      T['cumpnl'] = T.pnl.cumsum()\n",
        "      T1 = T[['cumpnl_short', 'cumpnl_long', 'cumpnl']].tail(1)\n",
        "      T1['SMA'] = SMA\n",
        "      T1['LMA'] = LMA\n",
        "      T1['Stock'] = Stock\n",
        "      T1['Year'] = z\n",
        "      T2 = T2.append(T1)\n",
        "\n",
        "print(T2)"
      ],
      "execution_count": null,
      "outputs": [
        {
          "output_type": "stream",
          "text": [
            "\r[*********************100%***********************]  1 of 1 completed\n",
            "                    cumpnl_long cumpnl_short   cumpnl  ... LMA        Stock  Year\n",
            "0                             0            0        0  ...   0            0     0\n",
            "2016-12-30 00:00:00           0            0        0  ...   1  RELIANCE.NS  2016\n",
            "2016-12-30 00:00:00    -55.6749     -99.2249   -154.9  ...   3  RELIANCE.NS  2016\n",
            "2016-12-30 00:00:00    -9.02502      -52.575 -61.6001  ...   5  RELIANCE.NS  2016\n",
            "2016-12-30 00:00:00     4.82504      -38.725 -33.8999  ...   7  RELIANCE.NS  2016\n",
            "...                         ...          ...      ...  ...  ..          ...   ...\n",
            "2020-10-30 00:00:00      619.95      18.1998   638.15  ...  31  RELIANCE.NS  2020\n",
            "2020-10-30 00:00:00       370.8      -230.95   139.85  ...  33  RELIANCE.NS  2020\n",
            "2020-10-30 00:00:00           0            0        0  ...  31  RELIANCE.NS  2020\n",
            "2020-10-30 00:00:00      399.45       -180.9   218.55  ...  33  RELIANCE.NS  2020\n",
            "2020-10-30 00:00:00           0            0        0  ...  33  RELIANCE.NS  2020\n",
            "\n",
            "[766 rows x 7 columns]\n"
          ],
          "name": "stdout"
        }
      ]
    },
    {
      "cell_type": "code",
      "metadata": {
        "id": "HQqZpHZ9h8fT",
        "colab": {
          "base_uri": "https://localhost:8080/"
        },
        "outputId": "48c6bd43-fb41-46b1-be0d-90378cec4bd5"
      },
      "source": [
        "Pivot_Table1 = pd.pivot_table(T2, values ='cumpnl', index =['SMA', 'LMA'], \n",
        "                         columns =['Year'], aggfunc = np.sum) \n",
        "print (Pivot_Table1)"
      ],
      "execution_count": null,
      "outputs": [
        {
          "output_type": "stream",
          "text": [
            "Year        2016     2017     2018     2019     2020    0\n",
            "SMA LMA                                                  \n",
            "1   1          0        0        0        0        0  NaN\n",
            "    3     -154.9  488.699    554.9  63.4506  127.339  NaN\n",
            "    5   -61.6001   331.15    524.8  315.951  133.399  NaN\n",
            "    7   -33.8999   285.55    -54.7  403.851  396.019  NaN\n",
            "    9    -110.25   237.05 -6.49988  158.351  633.919  NaN\n",
            "...          ...      ...      ...      ...      ...  ...\n",
            "29  33  -95.3751  9.12488  57.5499      183   139.85  NaN\n",
            "31  31         0        0        0        0        0  NaN\n",
            "    33   -67.375    129.9    140.6   126.25   218.55  NaN\n",
            "33  33         0        0        0        0        0  NaN\n",
            "0   0        NaN      NaN      NaN      NaN      NaN    0\n",
            "\n",
            "[154 rows x 6 columns]\n"
          ],
          "name": "stdout"
        }
      ]
    },
    {
      "cell_type": "code",
      "metadata": {
        "id": "_HuHt4q-oLYk",
        "colab": {
          "base_uri": "https://localhost:8080/",
          "height": 17
        },
        "outputId": "84f179cb-faa6-470e-b8e7-2d7dcf810597"
      },
      "source": [
        "Pivot_Table1.to_csv(\"PV_T.csv\", index=True, encoding='utf8')\n",
        "from google.colab import files\n",
        "files.download('PV_T.csv')"
      ],
      "execution_count": null,
      "outputs": [
        {
          "output_type": "display_data",
          "data": {
            "application/javascript": [
              "\n",
              "    async function download(id, filename, size) {\n",
              "      if (!google.colab.kernel.accessAllowed) {\n",
              "        return;\n",
              "      }\n",
              "      const div = document.createElement('div');\n",
              "      const label = document.createElement('label');\n",
              "      label.textContent = `Downloading \"${filename}\": `;\n",
              "      div.appendChild(label);\n",
              "      const progress = document.createElement('progress');\n",
              "      progress.max = size;\n",
              "      div.appendChild(progress);\n",
              "      document.body.appendChild(div);\n",
              "\n",
              "      const buffers = [];\n",
              "      let downloaded = 0;\n",
              "\n",
              "      const channel = await google.colab.kernel.comms.open(id);\n",
              "      // Send a message to notify the kernel that we're ready.\n",
              "      channel.send({})\n",
              "\n",
              "      for await (const message of channel.messages) {\n",
              "        // Send a message to notify the kernel that we're ready.\n",
              "        channel.send({})\n",
              "        if (message.buffers) {\n",
              "          for (const buffer of message.buffers) {\n",
              "            buffers.push(buffer);\n",
              "            downloaded += buffer.byteLength;\n",
              "            progress.value = downloaded;\n",
              "          }\n",
              "        }\n",
              "      }\n",
              "      const blob = new Blob(buffers, {type: 'application/binary'});\n",
              "      const a = document.createElement('a');\n",
              "      a.href = window.URL.createObjectURL(blob);\n",
              "      a.download = filename;\n",
              "      div.appendChild(a);\n",
              "      a.click();\n",
              "      div.remove();\n",
              "    }\n",
              "  "
            ],
            "text/plain": [
              "<IPython.core.display.Javascript object>"
            ]
          },
          "metadata": {
            "tags": []
          }
        },
        {
          "output_type": "display_data",
          "data": {
            "application/javascript": [
              "download(\"download_19783c6a-c673-4499-9c6e-ed3658c97240\", \"PV_T.csv\", 13336)"
            ],
            "text/plain": [
              "<IPython.core.display.Javascript object>"
            ]
          },
          "metadata": {
            "tags": []
          }
        }
      ]
    }
  ]
}