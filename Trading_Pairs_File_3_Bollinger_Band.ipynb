{
  "nbformat": 4,
  "nbformat_minor": 0,
  "metadata": {
    "colab": {
      "name": "Trading Pairs: File 3 Bollinger Band.ipynb",
      "provenance": []
    },
    "kernelspec": {
      "name": "python3",
      "display_name": "Python 3"
    }
  },
  "cells": [
    {
      "cell_type": "code",
      "metadata": {
        "colab": {
          "base_uri": "https://localhost:8080/"
        },
        "id": "kOqPBaNNCcvi",
        "outputId": "769200f3-dcd8-41c7-d0c1-b6a6f860b303"
      },
      "source": [
        "!pip install yfinance\r\n",
        "from datetime import datetime\r\n",
        "import pandas as pd\r\n",
        "import matplotlib.pyplot as plt\r\n",
        "import numpy as np\r\n",
        "import yfinance as yf"
      ],
      "execution_count": null,
      "outputs": [
        {
          "output_type": "stream",
          "text": [
            "Collecting yfinance\n",
            "  Downloading https://files.pythonhosted.org/packages/7a/e8/b9d7104d3a4bf39924799067592d9e59119fcfc900a425a12e80a3123ec8/yfinance-0.1.55.tar.gz\n",
            "Requirement already satisfied: pandas>=0.24 in /usr/local/lib/python3.6/dist-packages (from yfinance) (1.1.5)\n",
            "Requirement already satisfied: numpy>=1.15 in /usr/local/lib/python3.6/dist-packages (from yfinance) (1.19.4)\n",
            "Requirement already satisfied: requests>=2.20 in /usr/local/lib/python3.6/dist-packages (from yfinance) (2.23.0)\n",
            "Requirement already satisfied: multitasking>=0.0.7 in /usr/local/lib/python3.6/dist-packages (from yfinance) (0.0.9)\n",
            "Collecting lxml>=4.5.1\n",
            "\u001b[?25l  Downloading https://files.pythonhosted.org/packages/bd/78/56a7c88a57d0d14945472535d0df9fb4bbad7d34ede658ec7961635c790e/lxml-4.6.2-cp36-cp36m-manylinux1_x86_64.whl (5.5MB)\n",
            "\u001b[K     |████████████████████████████████| 5.5MB 5.8MB/s \n",
            "\u001b[?25hRequirement already satisfied: pytz>=2017.2 in /usr/local/lib/python3.6/dist-packages (from pandas>=0.24->yfinance) (2018.9)\n",
            "Requirement already satisfied: python-dateutil>=2.7.3 in /usr/local/lib/python3.6/dist-packages (from pandas>=0.24->yfinance) (2.8.1)\n",
            "Requirement already satisfied: chardet<4,>=3.0.2 in /usr/local/lib/python3.6/dist-packages (from requests>=2.20->yfinance) (3.0.4)\n",
            "Requirement already satisfied: idna<3,>=2.5 in /usr/local/lib/python3.6/dist-packages (from requests>=2.20->yfinance) (2.10)\n",
            "Requirement already satisfied: urllib3!=1.25.0,!=1.25.1,<1.26,>=1.21.1 in /usr/local/lib/python3.6/dist-packages (from requests>=2.20->yfinance) (1.24.3)\n",
            "Requirement already satisfied: certifi>=2017.4.17 in /usr/local/lib/python3.6/dist-packages (from requests>=2.20->yfinance) (2020.12.5)\n",
            "Requirement already satisfied: six>=1.5 in /usr/local/lib/python3.6/dist-packages (from python-dateutil>=2.7.3->pandas>=0.24->yfinance) (1.15.0)\n",
            "Building wheels for collected packages: yfinance\n",
            "  Building wheel for yfinance (setup.py) ... \u001b[?25l\u001b[?25hdone\n",
            "  Created wheel for yfinance: filename=yfinance-0.1.55-py2.py3-none-any.whl size=22616 sha256=80af1a6c75974a4e7608828766d6063c2eb2c3051a4fdb2516ad11067b01b037\n",
            "  Stored in directory: /root/.cache/pip/wheels/04/98/cc/2702a4242d60bdc14f48b4557c427ded1fe92aedf257d4565c\n",
            "Successfully built yfinance\n",
            "Installing collected packages: lxml, yfinance\n",
            "  Found existing installation: lxml 4.2.6\n",
            "    Uninstalling lxml-4.2.6:\n",
            "      Successfully uninstalled lxml-4.2.6\n",
            "Successfully installed lxml-4.6.2 yfinance-0.1.55\n"
          ],
          "name": "stdout"
        }
      ]
    },
    {
      "cell_type": "code",
      "metadata": {
        "colab": {
          "base_uri": "https://localhost:8080/",
          "height": 17
        },
        "id": "xj3h_SsTDp9e",
        "outputId": "ad8b159e-a9d9-482b-fcd1-1ecde45937f4"
      },
      "source": [
        "T3 = pd.DataFrame({\"Close\": data[\"Close\"]})\r\n",
        "T3['Year'] = T3.index.year \r\n",
        "T2 = pd.DataFrame({\"cumpnl\":['0'], \"MA\":['0'],  \"STD\":['0'], \"Stock\":['0'], \"Year\":['0']})\r\n",
        "\r\n",
        "for z in range (2016, 2021, 1):\r\n",
        "  T = T3.where(T3.Year == z)\r\n",
        "  T = T.dropna()\r\n",
        "  for a in range(1,20,1):\r\n",
        "    for b in range(1,3,1):\r\n",
        "      MA=a\r\n",
        "      STD=b\r\n",
        "\r\n",
        "      # Compute Moving averages of last 10 days and 30 days closing prices\r\n",
        "      T['moving_average'] = T.Close.rolling(MA).mean()\r\n",
        "      T['moving_std_dev'] = T.Close.rolling(MA).std()\r\n",
        "      T['upper_band'] = T.moving_average + (T.moving_std_dev*STD)\r\n",
        "      T['lower_band'] = T.moving_average - (T.moving_std_dev*STD)\r\n",
        "      T['positions_long'] = np.nan\r\n",
        "      T['positions_short'] = np.nan\r\n",
        "\r\n",
        "      for x in range (len(T)):\r\n",
        "        if T.Close[x] < T.lower_band[x]:\r\n",
        "          T['positions_long'][x] = 1\r\n",
        "        if T.Close[x] >= T.moving_average[x]:\r\n",
        "          T['positions_long'][x] = 0\r\n",
        "        if T.Close[x] > T.upper_band[x]:\r\n",
        "          T['positions_short'][x] = -1\r\n",
        "        if T.Close[x] <= T.moving_average[x]:\r\n",
        "          T['positions_short'][x] = 0\r\n",
        "\r\n",
        "      T.positions_long = T.positions_long.fillna(method='ffill')  \r\n",
        "      T.positions_short = T.positions_short.fillna(method='ffill')  \r\n",
        "      T['positions'] = T.positions_long + T.positions_short\r\n",
        "      T['price_difference']= T.Close - T.Close.shift(1)\r\n",
        "      T['pnl'] = T.positions.shift(1) * T.price_difference\r\n",
        "      T['cumpnl'] = T.pnl.cumsum()\r\n",
        "      T1 = T[['cumpnl']].tail(1)\r\n",
        "      T1['MA'] = MA\r\n",
        "      T1['STD'] = STD\r\n",
        "      T1['Stock'] = Stock\r\n",
        "      T1['Year'] = z\r\n",
        "      T2 = T2.append(T1)\r\n",
        "\r\n",
        "Pivot_Table1 = pd.pivot_table(T2, values ='cumpnl', index =['MA', 'STD'], \r\n",
        "                         columns =['Year'], aggfunc = np.sum) \r\n",
        "\r\n",
        "Pivot_Table1.to_csv(\"PV_T.csv\", index=True, encoding='utf8')\r\n",
        "from google.colab import files\r\n",
        "files.download('PV_T.csv')"
      ],
      "execution_count": null,
      "outputs": [
        {
          "output_type": "display_data",
          "data": {
            "application/javascript": [
              "\n",
              "    async function download(id, filename, size) {\n",
              "      if (!google.colab.kernel.accessAllowed) {\n",
              "        return;\n",
              "      }\n",
              "      const div = document.createElement('div');\n",
              "      const label = document.createElement('label');\n",
              "      label.textContent = `Downloading \"${filename}\": `;\n",
              "      div.appendChild(label);\n",
              "      const progress = document.createElement('progress');\n",
              "      progress.max = size;\n",
              "      div.appendChild(progress);\n",
              "      document.body.appendChild(div);\n",
              "\n",
              "      const buffers = [];\n",
              "      let downloaded = 0;\n",
              "\n",
              "      const channel = await google.colab.kernel.comms.open(id);\n",
              "      // Send a message to notify the kernel that we're ready.\n",
              "      channel.send({})\n",
              "\n",
              "      for await (const message of channel.messages) {\n",
              "        // Send a message to notify the kernel that we're ready.\n",
              "        channel.send({})\n",
              "        if (message.buffers) {\n",
              "          for (const buffer of message.buffers) {\n",
              "            buffers.push(buffer);\n",
              "            downloaded += buffer.byteLength;\n",
              "            progress.value = downloaded;\n",
              "          }\n",
              "        }\n",
              "      }\n",
              "      const blob = new Blob(buffers, {type: 'application/binary'});\n",
              "      const a = document.createElement('a');\n",
              "      a.href = window.URL.createObjectURL(blob);\n",
              "      a.download = filename;\n",
              "      div.appendChild(a);\n",
              "      a.click();\n",
              "      div.remove();\n",
              "    }\n",
              "  "
            ],
            "text/plain": [
              "<IPython.core.display.Javascript object>"
            ]
          },
          "metadata": {
            "tags": []
          }
        },
        {
          "output_type": "display_data",
          "data": {
            "application/javascript": [
              "download(\"download_a00296b7-9bf3-4681-baae-2e489567f67d\", \"PV_T.csv\", 3080)"
            ],
            "text/plain": [
              "<IPython.core.display.Javascript object>"
            ]
          },
          "metadata": {
            "tags": []
          }
        }
      ]
    }
  ]
}