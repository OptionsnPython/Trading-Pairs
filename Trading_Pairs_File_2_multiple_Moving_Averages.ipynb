{
  "nbformat": 4,
  "nbformat_minor": 0,
  "metadata": {
    "colab": {
      "name": "Trading Pairs: File 2 - multiple Moving Averages.ipynb",
      "provenance": []
    },
    "kernelspec": {
      "name": "python3",
      "display_name": "Python 3"
    }
  },
  "cells": [
    {
      "cell_type": "code",
      "metadata": {
        "colab": {
          "base_uri": "https://localhost:8080/"
        },
        "id": "LSF5yTCCtzx-",
        "outputId": "a605ac42-ecb8-4b72-f77a-f1a75308bed1"
      },
      "source": [
        "!pip install yfinance\r\n",
        "from datetime import datetime\r\n",
        "import pandas as pd\r\n",
        "import matplotlib.pyplot as plt\r\n",
        "import numpy as np\r\n",
        "import yfinance as yf"
      ],
      "execution_count": null,
      "outputs": [
        {
          "output_type": "stream",
          "text": [
            "Collecting yfinance\n",
            "  Downloading https://files.pythonhosted.org/packages/7a/e8/b9d7104d3a4bf39924799067592d9e59119fcfc900a425a12e80a3123ec8/yfinance-0.1.55.tar.gz\n",
            "Requirement already satisfied: pandas>=0.24 in /usr/local/lib/python3.6/dist-packages (from yfinance) (1.1.5)\n",
            "Requirement already satisfied: numpy>=1.15 in /usr/local/lib/python3.6/dist-packages (from yfinance) (1.19.4)\n",
            "Requirement already satisfied: requests>=2.20 in /usr/local/lib/python3.6/dist-packages (from yfinance) (2.23.0)\n",
            "Requirement already satisfied: multitasking>=0.0.7 in /usr/local/lib/python3.6/dist-packages (from yfinance) (0.0.9)\n",
            "Collecting lxml>=4.5.1\n",
            "\u001b[?25l  Downloading https://files.pythonhosted.org/packages/bd/78/56a7c88a57d0d14945472535d0df9fb4bbad7d34ede658ec7961635c790e/lxml-4.6.2-cp36-cp36m-manylinux1_x86_64.whl (5.5MB)\n",
            "\u001b[K     |████████████████████████████████| 5.5MB 6.3MB/s \n",
            "\u001b[?25hRequirement already satisfied: pytz>=2017.2 in /usr/local/lib/python3.6/dist-packages (from pandas>=0.24->yfinance) (2018.9)\n",
            "Requirement already satisfied: python-dateutil>=2.7.3 in /usr/local/lib/python3.6/dist-packages (from pandas>=0.24->yfinance) (2.8.1)\n",
            "Requirement already satisfied: idna<3,>=2.5 in /usr/local/lib/python3.6/dist-packages (from requests>=2.20->yfinance) (2.10)\n",
            "Requirement already satisfied: certifi>=2017.4.17 in /usr/local/lib/python3.6/dist-packages (from requests>=2.20->yfinance) (2020.12.5)\n",
            "Requirement already satisfied: chardet<4,>=3.0.2 in /usr/local/lib/python3.6/dist-packages (from requests>=2.20->yfinance) (3.0.4)\n",
            "Requirement already satisfied: urllib3!=1.25.0,!=1.25.1,<1.26,>=1.21.1 in /usr/local/lib/python3.6/dist-packages (from requests>=2.20->yfinance) (1.24.3)\n",
            "Requirement already satisfied: six>=1.5 in /usr/local/lib/python3.6/dist-packages (from python-dateutil>=2.7.3->pandas>=0.24->yfinance) (1.15.0)\n",
            "Building wheels for collected packages: yfinance\n",
            "  Building wheel for yfinance (setup.py) ... \u001b[?25l\u001b[?25hdone\n",
            "  Created wheel for yfinance: filename=yfinance-0.1.55-py2.py3-none-any.whl size=22616 sha256=01fb5a5a87136d09eeea4e27af77877116bc46a085348b3564640e00c65af82c\n",
            "  Stored in directory: /root/.cache/pip/wheels/04/98/cc/2702a4242d60bdc14f48b4557c427ded1fe92aedf257d4565c\n",
            "Successfully built yfinance\n",
            "Installing collected packages: lxml, yfinance\n",
            "  Found existing installation: lxml 4.2.6\n",
            "    Uninstalling lxml-4.2.6:\n",
            "      Successfully uninstalled lxml-4.2.6\n",
            "Successfully installed lxml-4.6.2 yfinance-0.1.55\n"
          ],
          "name": "stdout"
        }
      ]
    },
    {
      "cell_type": "code",
      "metadata": {
        "colab": {
          "base_uri": "https://localhost:8080/"
        },
        "id": "jSEv-qvWuCVB",
        "outputId": "3aadf732-9732-4c40-b507-fb9c2ab2d550"
      },
      "source": [
        "Stock = \"RELIANCE.NS\"\r\n",
        "data = yf.download(Stock, start=\"2016-01-01\", end=\"2020-10-31\")"
      ],
      "execution_count": null,
      "outputs": [
        {
          "output_type": "stream",
          "text": [
            "\r[*********************100%***********************]  1 of 1 completed\n"
          ],
          "name": "stdout"
        }
      ]
    },
    {
      "cell_type": "code",
      "metadata": {
        "colab": {
          "base_uri": "https://localhost:8080/"
        },
        "id": "P5Nx9nPwuFgb",
        "outputId": "26f6c9b9-3bf9-4f24-9dcd-eacfb253e76f"
      },
      "source": [
        "T3 = pd.DataFrame({\"Close\": data[\"Close\"]})\r\n",
        "T3['Year'] = T3.index.year \r\n",
        "T2 = pd.DataFrame({\"cumpnl_long\":['0'], \"SMA\":['0'],  \"LMA\":['0'], \"Year\":['0']})\r\n",
        "\r\n",
        "for z in range (2016, 2021, 1):\r\n",
        "  T = T3.where(T3.Year == z)\r\n",
        "  T = T.dropna()\r\n",
        "  for a in range(1,35,2):\r\n",
        "    for b in range(a,35,2):\r\n",
        "      SMA=a\r\n",
        "      LMA=b\r\n",
        "\r\n",
        "      # Compute Moving averages of last 10 days and 30 days closing prices\r\n",
        "      T['Short_average'] = T['Close'].rolling(window=SMA, min_periods=1, center=False).mean()\r\n",
        "      T['Long_average'] = T['Close'].rolling(window=LMA, min_periods=1, center=False).mean()\r\n",
        "\r\n",
        "      T['positions_long'] = np.nan\r\n",
        "\r\n",
        "      for x in range (len(T)):\r\n",
        "        if T.Short_average[x] > T.Long_average[x]:\r\n",
        "          T['positions_long'][x] = 1\r\n",
        "        if T.Short_average[x] <= T.Long_average[x]:\r\n",
        "          T['positions_long'][x] = 0\r\n",
        "\r\n",
        "      T.positions_long = T.positions_long.fillna(method='ffill')  \r\n",
        "\r\n",
        "      T['price_difference']= T.Close - T.Close.shift(1)\r\n",
        "      T['pnllong'] = T.positions_long.shift(1) * T.price_difference\r\n",
        "      T['cumpnl_long'] = T.pnllong.cumsum()\r\n",
        "      T1 = T[['cumpnl_long']].tail(1)\r\n",
        "      T1['SMA'] = SMA\r\n",
        "      T1['LMA'] = LMA\r\n",
        "      T1['Year'] = z\r\n",
        "      T2 = T2.append(T1)\r\n",
        "\r\n",
        "\r\n",
        "print(T2)"
      ],
      "execution_count": null,
      "outputs": [
        {
          "output_type": "stream",
          "text": [
            "                    cumpnl_long SMA LMA  Year\n",
            "0                             0   0   0     0\n",
            "2016-12-30 00:00:00           0   1   1  2016\n",
            "2016-12-30 00:00:00    -55.6749   1   3  2016\n",
            "2016-12-30 00:00:00    -9.02502   1   5  2016\n",
            "2016-12-30 00:00:00     4.82504   1   7  2016\n",
            "...                         ...  ..  ..   ...\n",
            "2020-10-30 00:00:00      619.95  29  31  2020\n",
            "2020-10-30 00:00:00       370.8  29  33  2020\n",
            "2020-10-30 00:00:00           0  31  31  2020\n",
            "2020-10-30 00:00:00      399.45  31  33  2020\n",
            "2020-10-30 00:00:00           0  33  33  2020\n",
            "\n",
            "[766 rows x 4 columns]\n"
          ],
          "name": "stdout"
        }
      ]
    },
    {
      "cell_type": "code",
      "metadata": {
        "colab": {
          "base_uri": "https://localhost:8080/"
        },
        "id": "OVdg2gxD4NRv",
        "outputId": "76e8a1a1-a0f8-4ef5-d4c9-28bf98a0fa5a"
      },
      "source": [
        "Pivot_Table1 = pd.pivot_table(T2, values ='cumpnl_long', index =['SMA', 'LMA'], columns =['Year'], aggfunc = np.sum) \r\n",
        "print (Pivot_Table1)"
      ],
      "execution_count": null,
      "outputs": [
        {
          "output_type": "stream",
          "text": [
            "Year        2016     2017    2018    2019     2020    0\n",
            "SMA LMA                                                \n",
            "1   1          0        0       0       0        0  NaN\n",
            "    3   -55.6749  432.525   382.5   240.9  323.269  NaN\n",
            "    5   -9.02502   353.75  367.45   361.8  326.299  NaN\n",
            "    7    4.82504   330.95    77.7  405.75   457.61  NaN\n",
            "    9     -33.35    306.7   101.8     283   576.56  NaN\n",
            "...          ...      ...     ...     ...      ...  ...\n",
            "29  33  -3.72504  207.625  131.65   221.9    370.8  NaN\n",
            "31  31         0        0       0       0        0  NaN\n",
            "    33   4.27499   262.65   163.1  208.05   399.45  NaN\n",
            "33  33         0        0       0       0        0  NaN\n",
            "0   0        NaN      NaN     NaN     NaN      NaN    0\n",
            "\n",
            "[154 rows x 6 columns]\n"
          ],
          "name": "stdout"
        }
      ]
    },
    {
      "cell_type": "code",
      "metadata": {
        "colab": {
          "base_uri": "https://localhost:8080/",
          "height": 34
        },
        "id": "wPqDlLIP4gzZ",
        "outputId": "20d08f2d-6e3e-4b25-bf8c-e3b4389993d2"
      },
      "source": [
        "Pivot_Table1.to_csv(\"PV_T.csv\", index=True, encoding='utf8')\r\n",
        "from google.colab import files\r\n",
        "files.download('PV_T.csv')"
      ],
      "execution_count": null,
      "outputs": [
        {
          "output_type": "display_data",
          "data": {
            "application/javascript": [
              "\n",
              "    async function download(id, filename, size) {\n",
              "      if (!google.colab.kernel.accessAllowed) {\n",
              "        return;\n",
              "      }\n",
              "      const div = document.createElement('div');\n",
              "      const label = document.createElement('label');\n",
              "      label.textContent = `Downloading \"${filename}\": `;\n",
              "      div.appendChild(label);\n",
              "      const progress = document.createElement('progress');\n",
              "      progress.max = size;\n",
              "      div.appendChild(progress);\n",
              "      document.body.appendChild(div);\n",
              "\n",
              "      const buffers = [];\n",
              "      let downloaded = 0;\n",
              "\n",
              "      const channel = await google.colab.kernel.comms.open(id);\n",
              "      // Send a message to notify the kernel that we're ready.\n",
              "      channel.send({})\n",
              "\n",
              "      for await (const message of channel.messages) {\n",
              "        // Send a message to notify the kernel that we're ready.\n",
              "        channel.send({})\n",
              "        if (message.buffers) {\n",
              "          for (const buffer of message.buffers) {\n",
              "            buffers.push(buffer);\n",
              "            downloaded += buffer.byteLength;\n",
              "            progress.value = downloaded;\n",
              "          }\n",
              "        }\n",
              "      }\n",
              "      const blob = new Blob(buffers, {type: 'application/binary'});\n",
              "      const a = document.createElement('a');\n",
              "      a.href = window.URL.createObjectURL(blob);\n",
              "      a.download = filename;\n",
              "      div.appendChild(a);\n",
              "      a.click();\n",
              "      div.remove();\n",
              "    }\n",
              "  "
            ],
            "text/plain": [
              "<IPython.core.display.Javascript object>"
            ]
          },
          "metadata": {
            "tags": []
          }
        },
        {
          "output_type": "display_data",
          "data": {
            "application/javascript": [
              "download(\"download_2f64106a-0c87-4c07-849e-8f661999ba49\", \"PV_T.csv\", 12945)"
            ],
            "text/plain": [
              "<IPython.core.display.Javascript object>"
            ]
          },
          "metadata": {
            "tags": []
          }
        }
      ]
    }
  ]
}